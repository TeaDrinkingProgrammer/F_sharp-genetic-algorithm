{
 "cells": [
  {
   "cell_type": "code",
   "execution_count": 17,
   "metadata": {
    "dotnet_interactive": {
     "language": "fsharp"
    },
    "polyglot_notebook": {
     "kernelName": "fsharp"
    },
    "vscode": {
     "languageId": "polyglot-notebook"
    }
   },
   "outputs": [],
   "source": [
    "let rnd = new Random();\n",
    "\n",
    "let random_number =\n",
    "    fun min max ->  int (rnd.NextDouble() * (max - min) + min)\n",
    "\n",
    "let random_number_std =\n",
    "    fun () -> random_number -5.0 10.0\n",
    "\n",
    "let random_step = \n",
    "    fun () -> match rnd.Next (1, 3) with\n",
    "                    | 0 -> 0.0\n",
    "                    | 1 -> -0.1\n",
    "                    | 2 -> 0.1\n",
    "let random_bool =\n",
    "    fun () -> rnd.NextDouble() >= 0.5;\n",
    "\n",
    "let shuffle d =\n",
    "    d |> List.sortBy(fun _ -> rnd.Next(1, (List.length d)) )"
   ]
  },
  {
   "cell_type": "code",
   "execution_count": 18,
   "metadata": {
    "dotnet_interactive": {
     "language": "fsharp"
    },
    "polyglot_notebook": {
     "kernelName": "fsharp"
    },
    "vscode": {
     "languageId": "polyglot-notebook"
    }
   },
   "outputs": [],
   "source": [
    "// p1 = f1 / (f1 + f2 + f3 + f4)\n",
    "\n",
    "type Parameters = {\n",
    "    A: float\n",
    "    B: float\n",
    "    C: float\n",
    "    D: float\n",
    "    E: float\n",
    "    F: float\n",
    "}\n",
    "\n",
    "// Curvefitting algorithm\n",
    "let curvefitting_algo (x: float) (p: Parameters) = \n",
    "    p.A*x**5 + p.B*x**4 + p.C*x**3 + p.D*x**2 + p.E*x + p.F\n",
    "\n",
    "// Curvefitting algorithm prefilled with the correct values.\n",
    "let check_curvefitting_algo x =\n",
    "    { A = -0.2; B = 3.0; C = -5.6; D = 8.0; E = -5.0; F = -5.0; } |> curvefitting_algo x\n",
    "\n",
    "let y_points = [for x in -5.0..5.0 do check_curvefitting_algo x]\n",
    "\n",
    "let calculate_fitness parameters =\n",
    "    let y_cap_points = [for x in -5.0..5.0 do (curvefitting_algo x parameters)]\n",
    "    ((List.sum y_points)-(List.sum y_cap_points))**2\n",
    "\n",
    "let calculate_fitness_for_list parameters =\n",
    "    (calculate_fitness parameters), parameters\n",
    "\n",
    "let mutate_float f_in =\n",
    "    f_in + (random_step ())\n",
    "\n",
    "let sort_list_by_fitness list =\n",
    "        list |>\n",
    "        List.map (calculate_fitness_for_list) |>\n",
    "        List.sortBy (fun (fitness_score, parameters) -> fitness_score)\n",
    "\n",
    "//Random Wheel Selection. Based on https://stackoverflow.com/questions/10324015/fitness-proportionate-selection-roulette-wheel-selection-in-python\n",
    "let rwc (source: list<Parameters>) =\n",
    "    let source_fitness = source |> List.map (fun parameters -> calculate_fitness parameters)\n",
    "    let max =  source_fitness |> List.sum\n",
    "    let pick = random_number 0 max\n",
    "    let mutable cum_fitness = 0.0\n",
    "    match source_fitness |> List.zip source |> List.tryPick (fun (parameters, fitness) -> (\n",
    "        cum_fitness <- cum_fitness + fitness\n",
    "        if cum_fitness > pick then\n",
    "            cum_fitness <- 0\n",
    "            Some (parameters)\n",
    "        else\n",
    "            None\n",
    "        )) with\n",
    "        | Some(value) -> value\n",
    "        | None -> failwith \"Error: no input list\"\n",
    "\n",
    "// Get two children\n",
    "let get_child parenta parentb =\n",
    "    let get_child_func a b = { Parameters.A = mutate_float a.A; B = mutate_float a.B; C = mutate_float a.C; D = mutate_float b.D; E = mutate_float b.E; F = mutate_float b.F }\n",
    "    match (random_bool ()) with\n",
    "        | true -> get_child_func parenta parentb\n",
    "        | false -> get_child_func parentb parenta\n",
    "\n",
    "let rec reproduction amount_of_children (children: list<Parameters>) (parents: list<Parameters>) =\n",
    "    match amount_of_children with\n",
    "        | amount_of_children when (amount_of_children > 0) -> reproduction (amount_of_children - 1) ((get_child (rwc parents) (rwc parents)) :: children) parents\n",
    "        | _ -> children"
   ]
  },
  {
   "cell_type": "code",
   "execution_count": 19,
   "metadata": {
    "dotnet_interactive": {
     "language": "fsharp"
    },
    "polyglot_notebook": {
     "kernelName": "fsharp"
    },
    "vscode": {
     "languageId": "polyglot-notebook"
    }
   },
   "outputs": [
    {
     "name": "stdout",
     "output_type": "stream",
     "text": [
      "Input: (1089.0, { A = -2.0\n",
      "           B = 3.0\n",
      "           C = -1.0\n",
      "           D = 8.0\n",
      "           E = -3.0\n",
      "           F = -2.0 })\n"
     ]
    },
    {
     "data": {
      "text/html": [
       "<details open=\"open\" class=\"dni-treeview\"><summary><span class=\"dni-code-hint\"><code>(1.2099999999967985, { A = 9.1\\n  B = 3.1\\n  C = -1.1\\n  D = 5.9\\n  E = 1.7\\n  F = -1.9 })</code></span></summary><div><table><thead><tr></tr></thead><tbody><tr><td>Item1</td><td><div class=\"dni-plaintext\"><pre>1.2099999999967985</pre></div></td></tr><tr><td>Item2</td><td><details class=\"dni-treeview\"><summary><span class=\"dni-code-hint\"><code>{ A = 9.1\\n  B = 3.1\\n  C = -1.1\\n  D = 5.9\\n  E = 1.7\\n  F = -1.9 }</code></span></summary><div><table><thead><tr></tr></thead><tbody><tr><td>A</td><td><div class=\"dni-plaintext\"><pre>9.1</pre></div></td></tr><tr><td>B</td><td><div class=\"dni-plaintext\"><pre>3.1</pre></div></td></tr><tr><td>C</td><td><div class=\"dni-plaintext\"><pre>-1.1</pre></div></td></tr><tr><td>D</td><td><div class=\"dni-plaintext\"><pre>5.9</pre></div></td></tr><tr><td>E</td><td><div class=\"dni-plaintext\"><pre>1.6999999999999997</pre></div></td></tr><tr><td>F</td><td><div class=\"dni-plaintext\"><pre>-1.899999999999999</pre></div></td></tr></tbody></table></div></details></td></tr></tbody></table></div></details><style>\r\n",
       ".dni-code-hint {\r\n",
       "    font-style: italic;\r\n",
       "    overflow: hidden;\r\n",
       "    white-space: nowrap;\r\n",
       "}\r\n",
       ".dni-treeview {\r\n",
       "    white-space: nowrap;\r\n",
       "}\r\n",
       ".dni-treeview td {\r\n",
       "    vertical-align: top;\r\n",
       "    text-align: start;\r\n",
       "}\r\n",
       "details.dni-treeview {\r\n",
       "    padding-left: 1em;\r\n",
       "}\r\n",
       "table td {\r\n",
       "    text-align: start;\r\n",
       "}\r\n",
       "table tr { \r\n",
       "    vertical-align: top; \r\n",
       "    margin: 0em 0px;\r\n",
       "}\r\n",
       "table tr td pre \r\n",
       "{ \r\n",
       "    vertical-align: top !important; \r\n",
       "    margin: 0em 0px !important;\r\n",
       "} \r\n",
       "table th {\r\n",
       "    text-align: start;\r\n",
       "}\r\n",
       "</style>"
      ]
     },
     "metadata": {},
     "output_type": "display_data"
    }
   ],
   "source": [
    "let random_organisms num_of_organisms = [for i in 0..num_of_organisms do {Parameters.A = random_number_std (); B = random_number_std (); C = random_number_std (); D = random_number_std (); E = random_number_std (); F = random_number_std () }]\n",
    "\n",
    "let epoch_prep num_of_organisms list = \n",
    "        list |>\n",
    "        sort_list_by_fitness |>\n",
    "        List.map (fun (_, parameters) -> parameters)\n",
    "        // List.take num_of_organisms |>\n",
    "let epoch num_of_organisms organisms =\n",
    "        organisms |>\n",
    "        epoch_prep num_of_organisms |>\n",
    "        // Simple diversification algorithm: 80% reproduced, 20% random.\n",
    "        reproduction ((num_of_organisms/10) * 8) [] |>\n",
    "        (fun reproduced -> random_organisms ((num_of_organisms/10) * 2) @ reproduced)\n",
    "    \n",
    "let rec geneticAlgorithm n_epochs num_of_organisms generation =\n",
    "        match (n_epochs) with\n",
    "                | 0 -> generation\n",
    "                | 1 -> generation |> epoch_prep num_of_organisms\n",
    "                | n -> geneticAlgorithm (n-1) num_of_organisms (epoch num_of_organisms generation)\n",
    "\n",
    "let num_of_organisms_input = 180\n",
    "let num_of_epochs = 50\n",
    "let input = random_organisms num_of_organisms_input\n",
    "printfn \"Input: %A\" (input |> sort_list_by_fitness).Head\n",
    "let bestAlgo = (geneticAlgorithm num_of_epochs num_of_organisms_input input).Head\n",
    "bestAlgo |> calculate_fitness_for_list\n",
    "\n",
    "//Actual parameters: { A = -0.2; B = 3.0; C = -5.6; D = 8.0; E = -5.0; F = -5.0; }"
   ]
  }
 ],
 "metadata": {
  "language_info": {
   "name": "python"
  },
  "orig_nbformat": 4
 },
 "nbformat": 4,
 "nbformat_minor": 2
}
